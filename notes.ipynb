{
 "cells": [
  {
   "cell_type": "markdown",
   "metadata": {},
   "source": [
    "# 7/23/2023 Relative Path 5"
   ]
  },
  {
   "cell_type": "code",
   "execution_count": 1,
   "metadata": {
    "dotnet_interactive": {
     "language": "pwsh"
    },
    "polyglot_notebook": {
     "kernelName": "pwsh"
    },
    "vscode": {
     "languageId": "polyglot-notebook"
    }
   },
   "outputs": [
    {
     "name": "stdout",
     "output_type": "stream",
     "text": [
      "\n",
      "\u001b[32;1mPath\u001b[0m\n",
      "\u001b[32;1m----\u001b[0m\n",
      "C:\\Projects\\relativepath-notes\n",
      "\n"
     ]
    }
   ],
   "source": [
    "pwd"
   ]
  },
  {
   "cell_type": "code",
   "execution_count": 2,
   "metadata": {
    "dotnet_interactive": {
     "language": "pwsh"
    },
    "polyglot_notebook": {
     "kernelName": "pwsh"
    },
    "vscode": {
     "languageId": "polyglot-notebook"
    }
   },
   "outputs": [
    {
     "name": "stdout",
     "output_type": "stream",
     "text": [
      "laptopofchris\\storr\r\n"
     ]
    }
   ],
   "source": [
    "whoami"
   ]
  },
  {
   "cell_type": "code",
   "execution_count": 3,
   "metadata": {
    "dotnet_interactive": {
     "language": "pwsh"
    },
    "polyglot_notebook": {
     "kernelName": "pwsh"
    },
    "vscode": {
     "languageId": "polyglot-notebook"
    }
   },
   "outputs": [
    {
     "name": "stdout",
     "output_type": "stream",
     "text": [
      "\u001b[31;1mwhich: \u001b[31;1mThe term 'which' is not recognized as a name of a cmdlet, function, script file, or executable program.\u001b[0m\n",
      "\u001b[31;1m\u001b[31;1mCheck the spelling of the name, or if a path was included, verify that the path is correct and try again.\u001b[0m\n"
     ]
    }
   ],
   "source": [
    "which"
   ]
  },
  {
   "cell_type": "code",
   "execution_count": 15,
   "metadata": {
    "dotnet_interactive": {
     "language": "pwsh"
    },
    "polyglot_notebook": {
     "kernelName": "pwsh"
    },
    "vscode": {
     "languageId": "polyglot-notebook"
    }
   },
   "outputs": [
    {
     "name": "stdout",
     "output_type": "stream",
     "text": [
      "C:\\Windows\\System32\\cmd.exe\r\n"
     ]
    }
   ],
   "source": [
    "where.exe cmd"
   ]
  },
  {
   "cell_type": "code",
   "execution_count": 18,
   "metadata": {
    "dotnet_interactive": {
     "language": "pwsh"
    },
    "polyglot_notebook": {
     "kernelName": "pwsh"
    },
    "vscode": {
     "languageId": "polyglot-notebook"
    }
   },
   "outputs": [
    {
     "name": "stdout",
     "output_type": "stream",
     "text": [
      "\n",
      "\u001b[32;1mCommandType     Name                                               Version    Source\u001b[0m\n",
      "\u001b[32;1m-----------     ----                                               -------    ------\u001b[0m\n",
      "Alias           pwd -> Get-Location                                           \n",
      "\n"
     ]
    }
   ],
   "source": [
    "get-alias pwd"
   ]
  },
  {
   "cell_type": "code",
   "execution_count": 22,
   "metadata": {
    "dotnet_interactive": {
     "language": "pwsh"
    },
    "polyglot_notebook": {
     "kernelName": "pwsh"
    },
    "vscode": {
     "languageId": "polyglot-notebook"
    }
   },
   "outputs": [
    {
     "name": "stdout",
     "output_type": "stream",
     "text": [
      "\n",
      "\u001b[32;1mCommandType     Name                                               Version    Source\u001b[0m\n",
      "\u001b[32;1m-----------     ----                                               -------    ------\u001b[0m\n",
      "Alias           pwd -> Get-Location                                           \n",
      "\n"
     ]
    }
   ],
   "source": [
    "Get-Alias pwd"
   ]
  },
  {
   "cell_type": "code",
   "execution_count": 23,
   "metadata": {
    "dotnet_interactive": {
     "language": "pwsh"
    },
    "polyglot_notebook": {
     "kernelName": "pwsh"
    },
    "vscode": {
     "languageId": "polyglot-notebook"
    }
   },
   "outputs": [
    {
     "name": "stdout",
     "output_type": "stream",
     "text": [
      "\n",
      "NAME\n",
      "    Get-Location\n",
      "    \n",
      "SYNOPSIS\n",
      "    Gets information about the current working location or a location stack.\n",
      "    \n",
      "    \n",
      "SYNTAX\n",
      "    Get-Location [-PSDrive <System.String[]>] [-PSProvider <System.String[]>] [<CommonParameters>]\n",
      "    \n",
      "    Get-Location [-Stack] [-StackName <System.String[]>] [<CommonParameters>]\n",
      "    \n",
      "    \n",
      "DESCRIPTION\n",
      "    The `Get-Location` cmdlet gets an object that represents the current directory, much like the \n",
      "    print working directory (pwd) command.\n",
      "    \n",
      "    When you move between PowerShell drives, PowerShell retains your location in each drive. You \n",
      "    can use this cmdlet to find your location in each drive.\n",
      "    \n",
      "    You can use this cmdlet to get the current directory at run time and use it in functions and \n",
      "    scripts, such as in a function that displays the current directory in the PowerShell prompt.\n",
      "    \n",
      "    You can also use this cmdlet to display the locations in a location stack. For more \n",
      "    information, see the Notes and the descriptions of the Stack and StackName parameters.\n",
      "    \n",
      "\n",
      "RELATED LINKS\n",
      "    Online Version: https://docs.microsoft.com/powershell/module/microsoft.powershell.management/ge\n",
      "    t-location?view=powershell-7.1&WT.mc_id=ps-gethelp\n",
      "    Pop-Location \n",
      "    Push-Location \n",
      "    Set-Location \n",
      "\n",
      "REMARKS\n",
      "    To see the examples, type: \"Get-Help Get-Location -Examples\"\n",
      "    For more information, type: \"Get-Help Get-Location -Detailed\"\n",
      "    For technical information, type: \"Get-Help Get-Location -Full\"\n",
      "    For online help, type: \"Get-Help Get-Location -Online\"\n",
      "\n"
     ]
    }
   ],
   "source": [
    "Get-Help pwd"
   ]
  },
  {
   "cell_type": "markdown",
   "metadata": {},
   "source": [
    "# DevOps Etiquette Note!\n",
    "Use \"directory\" rather than \"folder\" when talking about the filesystem or working on the command line."
   ]
  },
  {
   "cell_type": "code",
   "execution_count": 26,
   "metadata": {
    "dotnet_interactive": {
     "language": "pwsh"
    },
    "polyglot_notebook": {
     "kernelName": "pwsh"
    },
    "vscode": {
     "languageId": "polyglot-notebook"
    }
   },
   "outputs": [
    {
     "name": "stdout",
     "output_type": "stream",
     "text": [
      "\u001b[31;1mGet-Host: \u001b[31;1mA positional parameter cannot be found that accepts argument 'name'.\u001b[0m\r\n"
     ]
    }
   ],
   "source": [
    "host name"
   ]
  },
  {
   "cell_type": "code",
   "execution_count": 27,
   "metadata": {
    "dotnet_interactive": {
     "language": "pwsh"
    },
    "polyglot_notebook": {
     "kernelName": "pwsh"
    },
    "vscode": {
     "languageId": "polyglot-notebook"
    }
   },
   "outputs": [
    {
     "name": "stdout",
     "output_type": "stream",
     "text": [
      "LaptopOfChris\r\n"
     ]
    }
   ],
   "source": [
    "hostname"
   ]
  },
  {
   "cell_type": "markdown",
   "metadata": {},
   "source": [
    "# Powershell Command-lets versus BASH Commands\n",
    "## **Commands vs. Functions:**\n",
    "   - Linux Shell Commands: Linux shell commands are typically standalone executables present in the system's PATH.\n",
    "   - PowerShell Cmdlets: PowerShell cmdlets are functions. This makes it easier to create custom cmdlets for specific tasks.\n",
    "\n",
    "## **Syntax and Naming:**\n",
    "   - Linux Shell Commands: In Linux, the shell commands have a single-word format, followed by options and arguments. For example: `ls`, `pwd`.\n",
    "   - PowerShell Cmdlets: PowerShell commands are called cmdlets (Command-lets), and they follow a verb-noun naming convention. Cmdlets are written in the form of `Verb-Noun`, such as `New-Item`, `Get-Host`, etc..\n",
    "\n",
    "\n",
    "## **`Get-Help`` versus `man`**\n",
    "   - Linux Shell Commands: Linux usually relies on separate man pages for command documentation.\n",
    "   - PowerShell Cmdlets: PowerShell has an integrated help system accessible through the `Get-Help` cmdlet. It provides detailed information about cmdlets, examples, and parameter explanations.\n",
    "\n",
    "source: https://chat.openai.com/share/207d5fdd-252c-49cd-a31c-2fed4bc2f6c0"
   ]
  },
  {
   "cell_type": "code",
   "execution_count": 28,
   "metadata": {
    "dotnet_interactive": {
     "language": "pwsh"
    },
    "polyglot_notebook": {
     "kernelName": "pwsh"
    },
    "vscode": {
     "languageId": "polyglot-notebook"
    }
   },
   "outputs": [
    {
     "name": "stdout",
     "output_type": "stream",
     "text": [
      "\n",
      "    Directory: C:\\Projects\\relativepath-notes\n",
      "\n",
      "\u001b[32;1mMode                 LastWriteTime         Length Name\u001b[0m\n",
      "\u001b[32;1m----                 -------------         ------ ----\u001b[0m\n",
      "-a---           7/27/2023  3:50 PM           9151 notes.ipynb\n",
      "\n"
     ]
    }
   ],
   "source": [
    "# list items in the current directory\n",
    "ls"
   ]
  },
  {
   "cell_type": "code",
   "execution_count": 29,
   "metadata": {
    "dotnet_interactive": {
     "language": "pwsh"
    },
    "polyglot_notebook": {
     "kernelName": "pwsh"
    },
    "vscode": {
     "languageId": "polyglot-notebook"
    }
   },
   "outputs": [
    {
     "name": "stdout",
     "output_type": "stream",
     "text": [
      "\n",
      "NAME\n",
      "    Get-ChildItem\n",
      "    \n",
      "SYNOPSIS\n",
      "    Gets the items and child items in one or more specified locations.\n",
      "    \n",
      "    \n",
      "SYNTAX\n",
      "    Get-ChildItem [[-Filter] <System.String>] [-Attributes {Archive | Compressed | Device | \n",
      "    Directory | Encrypted | Hidden | IntegrityStream | Normal | NoScrubData | NotContentIndexed | \n",
      "    Offline | ReadOnly | ReparsePoint | SparseFile | System | Temporary}] [-Depth <System.UInt32>] \n",
      "    [-Directory] [-Exclude <System.String[]>] [-File] [-FollowSymlink] [-Force] [-Hidden] \n",
      "    [-Include <System.String[]>] -LiteralPath <System.String[]> [-Name] [-ReadOnly] [-Recurse] \n",
      "    [-System] [<CommonParameters>]\n",
      "    \n",
      "    Get-ChildItem [[-Path] <System.String[]>] [[-Filter] <System.String>] [-Attributes {Archive | \n",
      "    Compressed | Device | Directory | Encrypted | Hidden | IntegrityStream | Normal | NoScrubData \n",
      "    | NotContentIndexed | Offline | ReadOnly | ReparsePoint | SparseFile | System | Temporary}] \n",
      "    [-Depth <System.UInt32>] [-Directory] [-Exclude <System.String[]>] [-File] [-FollowSymlink] \n",
      "    [-Force] [-Hidden] [-Include <System.String[]>] [-Name] [-ReadOnly] [-Recurse] [-System] \n",
      "    [<CommonParameters>]\n",
      "    \n",
      "    \n",
      "DESCRIPTION\n",
      "    The `Get-ChildItem` cmdlet gets the items in one or more specified locations. If the item is a \n",
      "    container, it gets the items inside the container, known as child items. You can use the \n",
      "    Recurse parameter to get items in all child containers and use the Depth parameter to limit \n",
      "    the number of levels to recurse.\n",
      "    \n",
      "    `Get-ChildItem` doesn't display empty directories. When a `Get-ChildItem` command includes the \n",
      "    Depth or Recurse parameters, empty directories aren't included in the output.\n",
      "    \n",
      "    Locations are exposed to `Get-ChildItem` by PowerShell providers. A location can be a file \n",
      "    system directory, registry hive, or a certificate store. For more information, see \n",
      "    about_Providers (../Microsoft.PowerShell.Core/About/about_Providers.md).\n",
      "    \n",
      "\n",
      "RELATED LINKS\n",
      "    Online Version: https://docs.microsoft.com/powershell/module/microsoft.powershell.management/ge\n",
      "    t-childitem?view=powershell-7.1&WT.mc_id=ps-gethelp\n",
      "    about_Certificate_Provider \n",
      "    about_Providers \n",
      "    about_Quoting_Rules \n",
      "    about_Registry_Provider \n",
      "    ForEach-Object \n",
      "    Get-Alias \n",
      "    Get-Item \n",
      "    Get-Location \n",
      "    Get-Process \n",
      "    Get-PSProvider \n",
      "    Split-Path \n",
      "\n",
      "REMARKS\n",
      "    To see the examples, type: \"Get-Help Get-ChildItem -Examples\"\n",
      "    For more information, type: \"Get-Help Get-ChildItem -Detailed\"\n",
      "    For technical information, type: \"Get-Help Get-ChildItem -Full\"\n",
      "    For online help, type: \"Get-Help Get-ChildItem -Online\"\n",
      "\n"
     ]
    }
   ],
   "source": [
    "Get-Help ls"
   ]
  },
  {
   "cell_type": "code",
   "execution_count": 38,
   "metadata": {
    "dotnet_interactive": {
     "language": "pwsh"
    },
    "polyglot_notebook": {
     "kernelName": "pwsh"
    },
    "vscode": {
     "languageId": "polyglot-notebook"
    }
   },
   "outputs": [
    {
     "name": "stdout",
     "output_type": "stream",
     "text": [
      "\n",
      "NAME\n",
      "    Get-ChildItem\n",
      "    \n",
      "SYNOPSIS\n",
      "    Gets the items and child items in one or more specified locations.\n",
      "    \n",
      "    \n",
      "    --- Example 1: Get child items from a file system directory ---\n",
      "    \n",
      "    Get-ChildItem -Path C:\\Test\n",
      "    \n",
      "    Directory: C:\\Test\n",
      "    \n",
      "    Mode                LastWriteTime         Length Name\n",
      "    ----                -------------         ------ ----\n",
      "    d-----        2/15/2019     08:29                Logs\n",
      "    -a----        2/13/2019     08:55             26 anotherfile.txt\n",
      "    -a----        2/12/2019     15:40         118014 Command.txt\n",
      "    -a----         2/1/2019     08:43            183 CreateTestFile.ps1\n",
      "    -ar---        2/12/2019     14:31             27 ReadOnlyFile.txt\n",
      "    \n",
      "    By default `Get-ChildItem` lists the mode ( Attributes ), LastWriteTime , file size ( Length \n",
      "    ), and the Name of the item. The letters in the Mode property can be interpreted as follows:\n",
      "    \n",
      "    - `l` (link)\n",
      "    \n",
      "    - `d` (directory)\n",
      "    \n",
      "    - `a` (archive)\n",
      "    \n",
      "    - `r` (read-only)\n",
      "    \n",
      "    - `h` (hidden)\n",
      "    \n",
      "    - `s` (system).\n",
      "    \n",
      "    \n",
      "    For more information about the mode flags, see about_Filesystem_Provider \n",
      "    (../microsoft.powershell.core/about/about_filesystem_provider.md#attributes-flagsexpression).\n",
      "    \n",
      "    -------- Example 2: Get child item names in a directory --------\n",
      "    \n",
      "    Get-ChildItem -Path C:\\Test -Name\n",
      "    \n",
      "    Logs\n",
      "    anotherfile.txt\n",
      "    Command.txt\n",
      "    CreateTestFile.ps1\n",
      "    ReadOnlyFile.txt\n",
      "    \n",
      "    \n",
      "    Example 3: Get child items in the current directory and subdirectories\n",
      "    \n",
      "    Get-ChildItem -Path C:\\Test\\*.txt -Recurse -Force\n",
      "    \n",
      "    Directory: C:\\Test\\Logs\\Adirectory\n",
      "    \n",
      "    Mode                LastWriteTime         Length Name\n",
      "    ----                -------------         ------ ----\n",
      "    -a----        2/12/2019     16:16             20 Afile4.txt\n",
      "    -a-h--        2/12/2019     15:52             22 hiddenfile.txt\n",
      "    -a----        2/13/2019     13:26             20 LogFile4.txt\n",
      "    \n",
      "        Directory: C:\\Test\\Logs\\Backup\n",
      "    \n",
      "    Mode                LastWriteTime         Length Name\n",
      "    ----                -------------         ------ ----\n",
      "    -a----        2/12/2019     16:16             20 ATextFile.txt\n",
      "    -a----        2/12/2019     15:50             20 LogFile3.txt\n",
      "    \n",
      "        Directory: C:\\Test\\Logs\n",
      "    \n",
      "    Mode                LastWriteTime         Length Name\n",
      "    ----                -------------         ------ ----\n",
      "    -a----        2/12/2019     16:16             20 Afile.txt\n",
      "    -a-h--        2/12/2019     15:52             22 hiddenfile.txt\n",
      "    -a----        2/13/2019     13:26             20 LogFile1.txt\n",
      "    \n",
      "        Directory: C:\\Test\n",
      "    \n",
      "    Mode                LastWriteTime         Length Name\n",
      "    ----                -------------         ------ ----\n",
      "    -a----        2/13/2019     08:55             26 anotherfile.txt\n",
      "    -a----        2/12/2019     15:40         118014 Command.txt\n",
      "    -a-h--        2/12/2019     15:52             22 hiddenfile.txt\n",
      "    -ar---        2/12/2019     14:31             27 ReadOnlyFile.txt\n",
      "    \n",
      "    The `Get-ChildItem` cmdlet uses the Path parameter to specify `C:\\Test\\ .txt`. Path * uses the \n",
      "    asterisk (` `) wildcard to specify all files with the filename extension `.txt`. The Recurse * \n",
      "    parameter searches the Path directory its subdirectories, as shown in the Directory: headings. \n",
      "    The Force parameter displays hidden files such as `hiddenfile.txt` that have a mode of h .\n",
      "    ---- Example 4: Get child items using the Include parameter ----\n",
      "    \n",
      "    # When using the -Include parameter, if you don't include an asterisk in the path\n",
      "    # the command returns no output.\n",
      "    Get-ChildItem -Path C:\\Test\\ -Include *.txt\n",
      "    \n",
      "    \n",
      "    \n",
      "    Get-ChildItem -Path C:\\Test\\* -Include *.txt\n",
      "    \n",
      "    Directory: C:\\Test\n",
      "    \n",
      "    Mode                LastWriteTime         Length Name\n",
      "    ----                -------------         ------ ----\n",
      "    -a----        2/13/2019     08:55             26 anotherfile.txt\n",
      "    -a----        2/12/2019     15:40         118014 Command.txt\n",
      "    -ar---        2/12/2019     14:31             27 ReadOnlyFile.txt\n",
      "    \n",
      "    The `Get-ChildItem` cmdlet uses the Path parameter to specify the directory C:\\Test . The Path \n",
      "    parameter includes a trailing asterisk (`*`) wildcard to specify the directory's contents. The \n",
      "    Include parameter uses an asterisk (`*`) wildcard to specify all files with the file name \n",
      "    extension .txt .\n",
      "    \n",
      "    When the Include parameter is used, the Path parameter needs a trailing asterisk (`*`) \n",
      "    wildcard to specify the directory's contents. For example, `-Path C:\\Test*`.\n",
      "    \n",
      "    - If the Recurse parameter is added to the command, the trailing asterisk (` `) in the Path *  \n",
      "     parameter is optional. The Recurse parameter gets items from the Path directory and its   \n",
      "    subdirectories. For example, `-Path C:\\Test\\ -Recurse -Include *.txt` - If a trailing asterisk \n",
      "    (` `) isn't included in the Path * parameter, the command doesn't return   any output and \n",
      "    returns to the PowerShell prompt. For example, `-Path C:\\Test`.\n",
      "    ---- Example 5: Get child items using the Exclude parameter ----\n",
      "    \n",
      "    Get-ChildItem -Path C:\\Test\\Logs\n",
      "    \n",
      "    Directory: C:\\Test\\Logs\n",
      "    \n",
      "    Mode                LastWriteTime         Length Name\n",
      "    ----                -------------         ------ ----\n",
      "    d-----        2/15/2019     13:21                Adirectory\n",
      "    d-----        2/15/2019     08:28                AnEmptyDirectory\n",
      "    d-----        2/15/2019     13:21                Backup\n",
      "    -a----        2/12/2019     16:16             20 Afile.txt\n",
      "    -a----        2/13/2019     13:26             20 LogFile1.txt\n",
      "    -a----        2/12/2019     16:24             23 systemlog1.log\n",
      "    \n",
      "    Get-ChildItem -Path C:\\Test\\Logs\\* -Exclude A*\n",
      "    \n",
      "    Directory: C:\\Test\\Logs\n",
      "    \n",
      "    Mode                LastWriteTime         Length Name\n",
      "    ----                -------------         ------ ----\n",
      "    d-----        2/15/2019     13:21                Backup\n",
      "    -a----        2/13/2019     13:26             20 LogFile1.txt\n",
      "    -a----        2/12/2019     16:24             23 systemlog1.log\n",
      "    \n",
      "    The `Get-ChildItem` cmdlet uses the Path parameter to specify the directory `C:\\Test\\Logs`. \n",
      "    The Exclude parameter uses the asterisk (`*`) wildcard to specify any files or directories \n",
      "    that begin with A or a are excluded from the output.\n",
      "    \n",
      "    When the Exclude parameter is used, a trailing asterisk (` `) in the Path * parameter is \n",
      "    optional. For example, `-Path C:\\Test\\Logs` or `-Path C:\\Test\\Logs*`.\n",
      "    \n",
      "    - If a trailing asterisk (` `) isn't included in the Path parameter, the contents of the Path \n",
      "    *   parameter are displayed. The exceptions are filenames or subdirectory names that match the \n",
      "    Exclude parameter's value. - If a trailing asterisk (` `) is included in the Path * parameter, \n",
      "    the command recurses into the Path parameter's subdirectories. The exceptions are filenames or \n",
      "    subdirectory names that match   the Exclude parameter's value. - If the Recurse parameter is \n",
      "    added to the command, the recursion output is the same whether or   not the Path parameter \n",
      "    includes a trailing asterisk (`*`).\n",
      "    ---- Example 6: Get the registry keys from a registry hive ----\n",
      "    \n",
      "    Get-ChildItem -Path HKLM:\\HARDWARE\n",
      "    \n",
      "    Hive: HKEY_LOCAL_MACHINE\\HARDWARE\n",
      "    \n",
      "    Name             Property\n",
      "    ----             --------\n",
      "    ACPI\n",
      "    DESCRIPTION\n",
      "    DEVICEMAP\n",
      "    RESOURCEMAP\n",
      "    UEFI\n",
      "    \n",
      "    Get-ChildItem -Path HKLM:\\HARDWARE -Exclude D*\n",
      "    \n",
      "    Hive: HKEY_LOCAL_MACHINE\\HARDWARE\n",
      "    \n",
      "    Name                           Property\n",
      "    ----                           --------\n",
      "    ACPI\n",
      "    RESOURCEMAP\n",
      "    \n",
      "    The first command shows the contents of the `HKLM:\\HARDWARE` registry key. The Exclude \n",
      "    parameter tells `Get-ChildItem` not to return any subkeys that start with `D `. Currently, the \n",
      "    Exclude * parameter only works on subkeys, not item properties.\n",
      "    - Example 7: Get all certificates with code-signing authority -\n",
      "    \n",
      "    Get-ChildItem -Path Cert:\\* -Recurse -CodeSigningCert\n",
      "    \n",
      "    For more information about the Certificate provider and the Cert: drive, see \n",
      "    about_Certificate_Provider \n",
      "    (../Microsoft.PowerShell.Security/About/about_Certificate_Provider.md).\n",
      "    -------- Example 8: Get items using the Depth parameter --------\n",
      "    \n",
      "    Get-ChildItem -Path C:\\Parent -Depth 2\n",
      "    \n",
      "    Directory: C:\\Parent\n",
      "    \n",
      "    Mode                LastWriteTime         Length Name\n",
      "    ----                -------------         ------ ----\n",
      "    d-----        2/14/2019     10:24                SubDir_Level1\n",
      "    -a----        2/13/2019     08:55             26 file.txt\n",
      "    \n",
      "        Directory: C:\\Parent\\SubDir_Level1\n",
      "    \n",
      "    Mode                LastWriteTime         Length Name\n",
      "    ----                -------------         ------ ----\n",
      "    d-----        2/14/2019     10:24                SubDir_Level2\n",
      "    -a----        2/13/2019     08:55             26 file.txt\n",
      "    \n",
      "        Directory: C:\\Parent\\SubDir_Level1\\SubDir_Level2\n",
      "    \n",
      "    Mode                LastWriteTime         Length Name\n",
      "    ----                -------------         ------ ----\n",
      "    d-----        2/14/2019     10:22                SubDir_Level3\n",
      "    -a----        2/13/2019     08:55             26 file.txt\n",
      "    \n",
      "    The `Get-ChildItem` cmdlet uses the Path parameter to specify C:\\Parent . The Depth parameter \n",
      "    specifies two levels of recursion. `Get-ChildItem` displays the contents of the directory \n",
      "    specified by the Path parameter and the two levels of subdirectories.\n",
      "    ----------- Example 9: Getting hard link information -----------\n",
      "    \n",
      "    Get-ChildItem -Path C:\\PathContainingHardLink | Format-Table -View childrenWithHardLink\n",
      "    \n",
      "    \n",
      "    ----- Example 10: Output for Non-Windows Operating Systems -----\n",
      "    \n",
      "    PS> Get-ChildItem /etc/r*\n",
      "    \n",
      "    Directory: /etc\n",
      "    \n",
      "    UnixMode   User Group    LastWriteTime Size Name\n",
      "    --------   ---- -----    ------------- ---- ----\n",
      "    drwxr-xr-x root wheel  9/30/2019 19:19  128 racoon\n",
      "    -rw-r--r-- root wheel  9/26/2019 18:20 1560 rc.common\n",
      "    -rw-r--r-- root wheel  7/31/2017 17:30 1560 rc.common~previous\n",
      "    -rw-r--r-- root wheel  9/27/2019 20:34 5264 rc.netboot\n",
      "    lrwxr-xr-x root wheel  11/8/2019 15:35   22 resolv.conf -> /private/var/run/resolv.conf\n",
      "    -rw-r--r-- root wheel 10/23/2019 17:41    0 rmtab\n",
      "    -rw-r--r-- root wheel 10/23/2019 17:41 1735 rpc\n",
      "    -rw-r--r-- root wheel  7/25/2017 18:37 1735 rpc~previous\n",
      "    -rw-r--r-- root wheel 10/23/2019 18:42  891 rtadvd.conf\n",
      "    -rw-r--r-- root wheel  8/24/2017 21:54  891 rtadvd.conf~previous\n",
      "    \n",
      "    The new properties that are now part of the output are:\n",
      "    \n",
      "    - UnixMode is the file permissions as represented on a Unix system - User is the file owner - \n",
      "    Group is the group owner - Size is the size of the file or directory as represented on a Unix \n",
      "    system\n",
      "    \n",
      "    > [!NOTE] > This feature was moved from experimental to mainstream in PowerShell 7.1.\n",
      "\n",
      "\n"
     ]
    }
   ],
   "source": [
    "Get-Help Get-ChildItem -Examples"
   ]
  },
  {
   "cell_type": "code",
   "execution_count": 31,
   "metadata": {
    "dotnet_interactive": {
     "language": "pwsh"
    },
    "polyglot_notebook": {
     "kernelName": "pwsh"
    },
    "vscode": {
     "languageId": "polyglot-notebook"
    }
   },
   "outputs": [
    {
     "name": "stdout",
     "output_type": "stream",
     "text": [
      "\n",
      "    Directory: C:\\Projects\\relativepath-notes\n",
      "\n",
      "\u001b[32;1mMode                 LastWriteTime         Length Name\u001b[0m\n",
      "\u001b[32;1m----                 -------------         ------ ----\u001b[0m\n",
      "-a---           7/27/2023  3:52 PM          14063 notes.ipynb\n",
      "\n"
     ]
    }
   ],
   "source": [
    "# list current directory\n",
    "ls ."
   ]
  },
  {
   "cell_type": "code",
   "execution_count": 32,
   "metadata": {
    "dotnet_interactive": {
     "language": "pwsh"
    },
    "polyglot_notebook": {
     "kernelName": "pwsh"
    },
    "vscode": {
     "languageId": "polyglot-notebook"
    }
   },
   "outputs": [
    {
     "name": "stdout",
     "output_type": "stream",
     "text": [
      "\u001b[31;1mParserError: \u001b[0m\n",
      "\u001b[31;1m\u001b[36;1mLine |\u001b[0m\n",
      "\u001b[31;1m\u001b[36;1m\u001b[36;1m   1 | \u001b[0m \u001b[36;1m.\u001b[0m\n",
      "\u001b[31;1m\u001b[36;1m\u001b[36;1m\u001b[0m\u001b[36;1m\u001b[0m\u001b[36;1m     | \u001b[31;1m ~\u001b[0m\n",
      "\u001b[31;1m\u001b[36;1m\u001b[36;1m\u001b[0m\u001b[36;1m\u001b[0m\u001b[36;1m\u001b[31;1m\u001b[31;1m\u001b[36;1m     | \u001b[31;1mMissing expression after '.' in pipeline element.\u001b[0m\n"
     ]
    }
   ],
   "source": [
    "."
   ]
  },
  {
   "cell_type": "code",
   "execution_count": 33,
   "metadata": {
    "dotnet_interactive": {
     "language": "pwsh"
    },
    "polyglot_notebook": {
     "kernelName": "pwsh"
    },
    "vscode": {
     "languageId": "polyglot-notebook"
    }
   },
   "outputs": [
    {
     "name": "stdout",
     "output_type": "stream",
     "text": [
      "\n",
      "\u001b[32;1mPath\u001b[0m\n",
      "\u001b[32;1m----\u001b[0m\n",
      "C:\\Projects\\relativepath-notes\n",
      "\n"
     ]
    }
   ],
   "source": [
    "pwd"
   ]
  },
  {
   "cell_type": "markdown",
   "metadata": {},
   "source": [
    "# ls with various arguments"
   ]
  },
  {
   "cell_type": "code",
   "execution_count": 34,
   "metadata": {
    "dotnet_interactive": {
     "language": "pwsh"
    },
    "polyglot_notebook": {
     "kernelName": "pwsh"
    },
    "vscode": {
     "languageId": "polyglot-notebook"
    }
   },
   "outputs": [
    {
     "name": "stdout",
     "output_type": "stream",
     "text": [
      "\n",
      "    Directory: C:\\Projects\n",
      "\n",
      "\u001b[32;1mMode                 LastWriteTime         Length Name\u001b[0m\n",
      "\u001b[32;1m----                 -------------         ------ ----\u001b[0m\n",
      "d----           3/22/2022 10:15 PM                \u001b[44;1maliases\u001b[0m\n",
      "d----           2/24/2022  4:16 PM                \u001b[44;1mchris funzone\u001b[0m\n",
      "d----           10/6/2022  2:23 AM                \u001b[44;1mforex-with-flask\u001b[0m\n",
      "d----           7/27/2023  2:35 PM                \u001b[44;1mpolygloss\u001b[0m\n",
      "d----            7/1/2022 11:45 PM                \u001b[44;1mpythonfiles\u001b[0m\n",
      "d----           7/18/2023  2:56 PM                \u001b[44;1mrelativepath-cycle-4\u001b[0m\n",
      "d----           7/27/2023  3:49 PM                \u001b[44;1mrelativepath-notes\u001b[0m\n",
      "-a---          12/16/2021  7:18 PM            607 \u001b[32;1mjacobsprogram.py\u001b[0m\n",
      "-a---          12/18/2021  9:07 PM            370 \u001b[32;1mm.py\u001b[0m\n",
      "-a---          12/18/2021  5:28 AM            662 questions.md\n",
      "-a---            7/1/2022 11:41 PM             52 secret_key.txt\n",
      "\n"
     ]
    }
   ],
   "source": [
    "# list contents of parent directory\n",
    "ls .."
   ]
  },
  {
   "cell_type": "code",
   "execution_count": 41,
   "metadata": {
    "dotnet_interactive": {
     "language": "pwsh"
    },
    "polyglot_notebook": {
     "kernelName": "pwsh"
    },
    "vscode": {
     "languageId": "polyglot-notebook"
    }
   },
   "outputs": [],
   "source": [
    "# list contents of current directory AND hidden items\n",
    "ls -Hidden"
   ]
  }
 ],
 "metadata": {
  "language_info": {
   "name": "python"
  },
  "orig_nbformat": 4
 },
 "nbformat": 4,
 "nbformat_minor": 2
}
